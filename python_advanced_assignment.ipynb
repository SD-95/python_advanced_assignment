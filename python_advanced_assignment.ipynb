{
 "cells": [
  {
   "cell_type": "code",
   "execution_count": 1,
   "id": "1d6b0a2e-e8d3-4a98-bd43-541774377a63",
   "metadata": {},
   "outputs": [
    {
     "data": {
      "text/plain": [
       "'hsemoS'"
      ]
     },
     "execution_count": 1,
     "metadata": {},
     "output_type": "execute_result"
    }
   ],
   "source": [
    "##Q01 Write a code to reverse a string.\n",
    "\n",
    "str1 = 'Somesh'\n",
    "str1[::-1] ## here is the code of reverse the string \n"
   ]
  },
  {
   "cell_type": "code",
   "execution_count": null,
   "id": "44496f24-f28c-419b-b463-a6bd104bcf3a",
   "metadata": {},
   "outputs": [],
   "source": [
    "##Q02 Write a code to count the number of vowels in a string\n",
    "\n",
    "str1 = 'hello, how are you'\n",
    "vowel_number = 'aeiou'\n",
    "count = 0\n",
    "\n",
    "for i in str1:\n",
    "    #print(i)\n",
    "    if i in vowel_number:\n",
    "        #print(i)\n",
    "        #print(count)\n",
    "        count += 1\n",
    "print(f'the vowel count is {count} in the above given string')"
   ]
  },
  {
   "cell_type": "code",
   "execution_count": null,
   "id": "720028ec-4b4d-4d81-8c19-cce023a33677",
   "metadata": {},
   "outputs": [],
   "source": [
    "##Q03 Write a code to check if a given string is a palindrome or not\n",
    "\n",
    "string = input('enter the text')\n",
    "palindrome_version =  string[::-1]\n",
    "\n",
    "if string[-2:] == palindrome_version[0:2][::-1]:\n",
    "    print(f'{string} is a palindrome')\n",
    "else:\n",
    "    print(f'{string} is not a palindrome')"
   ]
  },
  {
   "cell_type": "code",
   "execution_count": null,
   "id": "f3cd40cf-4125-48a5-bd28-0f8fe042eacb",
   "metadata": {},
   "outputs": [],
   "source": [
    "##Q04 Write a code to check if two given strings are anagrams of each other \n",
    "\n",
    "input_string = input('enter anything')\n",
    "input_anagram = input('enter the anagram of the above given string')\n",
    "\n",
    "if len(input_string) == len(input_anagram)  and set(input_string) == set(input_anagram):\n",
    "    print(f'yes !! {input_anagram} anagrams of {input_string}')\n",
    "else:\n",
    "    print(f'sorry !! {input_anagram} is not a anagrams of {input_string}')"
   ]
  },
  {
   "cell_type": "code",
   "execution_count": 1,
   "id": "038a5140-93fb-4457-9e05-fbfb76faee9a",
   "metadata": {},
   "outputs": [
    {
     "name": "stdout",
     "output_type": "stream",
     "text": [
      "Occurrences of 'i am' found  positions: [7, 32]\n"
     ]
    }
   ],
   "source": [
    "##Q05 Write a code to find all occurrences of a given substring within another string\n",
    "\n",
    "main_string = \"Hello, i am a pw_skill learner, i am also an beginner\"\n",
    "sub_string = \"i am\"\n",
    "positions = []\n",
    "start = 0\n",
    "condition = True\n",
    "\n",
    "while condition:\n",
    "    start = main_string.find(sub_string, start)\n",
    "    if start == -1:\n",
    "        break\n",
    "    positions.append(start)\n",
    "    start += 1  \n",
    "\n",
    "print(f\"Occurrences of '{sub_string}' found  positions: {positions}\")"
   ]
  },
  {
   "cell_type": "code",
   "execution_count": 3,
   "id": "a8cb60f8-22fd-4560-a899-4972f80a5763",
   "metadata": {},
   "outputs": [
    {
     "name": "stdout",
     "output_type": "stream",
     "text": [
      "a4b5c4a14\n"
     ]
    }
   ],
   "source": [
    "##Q06 Write a code to perform basic string compression using the counts of repeated characters\n",
    "\n",
    "Str1 = \"aaaabbbbbccccaaaaaaaaaaaaaa\"\n",
    "compressed = \"\"\n",
    "count = 1\n",
    "\n",
    "for i in range(1, len(Str1)):\n",
    "    if Str1[i] == Str1[i - 1]:\n",
    "        count += 1\n",
    "    else:\n",
    "        compressed += Str1[i - 1] + str(count)\n",
    "        count = 1\n",
    "\n",
    "compressed += Str1[-1] + str(count) \n",
    "\n",
    "print(compressed if len(compressed) < len(Str1) else Str1)"
   ]
  },
  {
   "cell_type": "code",
   "execution_count": null,
   "id": "18b53590-cd02-49ed-869b-ddca13476d09",
   "metadata": {},
   "outputs": [],
   "source": [
    "##Q07 Write a code to determine if a string has all unique characters\n",
    "\n",
    "string = input('enter a anything')\n",
    "\n",
    "new_set = set()\n",
    "\n",
    "for i in string:\n",
    "    if i in new_set:\n",
    "        print(\"The string has no unique characters.\")\n",
    "        break\n",
    "    new_set.add(i)\n",
    "else:\n",
    "    print(\"The string have unique characters.\")"
   ]
  },
  {
   "cell_type": "code",
   "execution_count": null,
   "id": "f915cd33-4c44-4af3-a286-660e7ec59ddd",
   "metadata": {},
   "outputs": [],
   "source": [
    "##Q08 Write a code to convert a given string to uppercase or lowercase\n",
    "\n",
    "str1 = 'helloworld'\n",
    "str1.upper()\n",
    "str1.lower()"
   ]
  },
  {
   "cell_type": "code",
   "execution_count": null,
   "id": "0fb797ac-35b7-4528-88cf-274cc65f0442",
   "metadata": {},
   "outputs": [],
   "source": [
    "##Q09 Write a code to count the number of words in a string\n",
    "\n",
    "str1 = 'i am a good student'\n",
    "\n",
    "#1st step to split the string, then check the length of word\n",
    "\n",
    "len(str1.split())"
   ]
  },
  {
   "cell_type": "code",
   "execution_count": null,
   "id": "0ebbd1ac-b276-4cc1-a80e-d9a48b2fea65",
   "metadata": {},
   "outputs": [],
   "source": [
    "##Q10 Write a code to concatenate two strings without using the + operator\n",
    "\n",
    "newstr = 'Somesh'\n",
    "newstr2 = 'Dash'\n",
    "\n",
    "updatestring = f'{newstr}{newstr2}'\n",
    "updatestring"
   ]
  },
  {
   "cell_type": "code",
   "execution_count": null,
   "id": "9bf6eb8e-861a-4ed6-8f33-be13757ea051",
   "metadata": {},
   "outputs": [],
   "source": [
    "##Q11  Write a code to remove all occurrences of a specific element from a list\n",
    "\n",
    "list1 = ['abc','def','abc','ghi','abc','jkl','abc','mno','pqrs','abc', 1 , 2 , 3 , 4]\n",
    "print(list1)\n",
    "list1 = [i for i in list1 if i != 'abc' ] ##remove the all occurrences of a specific element from a list 'abc'\n",
    "print(list1)"
   ]
  },
  {
   "cell_type": "code",
   "execution_count": null,
   "id": "5a6fb055-0365-4d87-ac6a-fd7cd8d07263",
   "metadata": {},
   "outputs": [],
   "source": [
    "##Q12  Implement a code to find the second largest number in a given list of integers\n",
    "\n",
    "my_list = [12, 45, 23, 45, 89, 78, 89, 45]\n",
    "\n",
    "largest_number = max(my_list)  \n",
    "while largest_number in my_list:       \n",
    "    my_list.remove(largest_number)\n",
    "    second_largest_number = max(my_list) "
   ]
  },
  {
   "cell_type": "code",
   "execution_count": null,
   "id": "a242ae55-e514-433c-a5a2-fd016bd5563c",
   "metadata": {},
   "outputs": [],
   "source": [
    "##Q13  Create a code to count the occurrences of each element in a list and return a dictionary with elements as keys and their counts as values\n",
    "\n",
    "my_list = [12, 45, 23, 12, 45,23, 89, 78, 23, 89, 45, 89]\n",
    "\n",
    "my_dictionary = {}\n",
    "type(my_dictionary)\n",
    "\n",
    "for i in my_list:\n",
    "    if i in my_dictionary:\n",
    "        my_dictionary[i] += 1\n",
    "    else:\n",
    "        my_dictionary[i] = 1\n",
    "\n",
    "my_dictionary"
   ]
  },
  {
   "cell_type": "code",
   "execution_count": 7,
   "id": "2e024956-2d28-4bd4-bb2b-68ef16776995",
   "metadata": {},
   "outputs": [
    {
     "name": "stdout",
     "output_type": "stream",
     "text": [
      "[5, 4, 3, 2, 1]\n"
     ]
    }
   ],
   "source": [
    "##Q14 Write a code to reverse a list in-place without using any built-in reverse functions\n",
    "\n",
    "list = [1, 2, 3, 4, 5]\n",
    "\n",
    "left = 0\n",
    "right = len(list) - 1\n",
    "\n",
    "while left < right:\n",
    "    list[left], list[right] = list[right], list[left]\n",
    "    left += 1\n",
    "    right -= 1\n",
    "print(list)  "
   ]
  },
  {
   "cell_type": "code",
   "execution_count": null,
   "id": "4a53aafe-f9e4-46c4-bf05-b48aac8e74fb",
   "metadata": {},
   "outputs": [],
   "source": [
    "##Q15  Implement a code to find and remove duplicates from a list while preserving the original order of elements\n",
    "\n",
    "original_list = [1, 1, 2, 1, 2, 3, 1, 2, 3, 4,1, 2, 3, 4, 5]\n",
    "#type(original_list)\n",
    "\n",
    "container = []\n",
    "\n",
    "for i in original_list:\n",
    "    #print(i)\n",
    "    if i not in container:\n",
    "        container.append(i)"
   ]
  },
  {
   "cell_type": "code",
   "execution_count": null,
   "id": "6ba31c73-c320-4fc6-be89-cb55caa0141a",
   "metadata": {},
   "outputs": [],
   "source": [
    "##Q16  Create a code to check if a given list is sorted (either in ascending or descending order) or not\n",
    "\n",
    "my_list = [1, 2, 3, 4, 5]\n",
    "\n",
    "if my_list == sorted(my_list):\n",
    "    print(\"The list is sorted.\")\n",
    "else:\n",
    "    print(\"The list is not sorted.\")"
   ]
  },
  {
   "cell_type": "code",
   "execution_count": null,
   "id": "7ceafecc-3737-4588-b058-46afdc7302a6",
   "metadata": {},
   "outputs": [],
   "source": [
    "##Q17  Write a code to merge two sorted lists into a single sorted list\n",
    "\n",
    "list1 = [1, 3, 5, 7]\n",
    "list2 = [2, 4, 6, 8]\n",
    "\n",
    "new_list = sorted(list1 + list2)\n",
    "\n",
    "print(new_list)"
   ]
  },
  {
   "cell_type": "code",
   "execution_count": null,
   "id": "cd178f80-8a7c-4396-8f7a-a3734ff836b2",
   "metadata": {},
   "outputs": [],
   "source": [
    "##Q18 Implement a code to find the intersection of two given lists\n",
    "\n",
    "listA = [1, 2, 3, 4, 5]\n",
    "listB = [4, 5, 6, 7, 8]\n",
    "listC = print('common value of the both set is:', list(set(listA) & set(listB)))"
   ]
  },
  {
   "cell_type": "code",
   "execution_count": null,
   "id": "168b0979-0fac-4b1c-b8bb-e8334cb830f9",
   "metadata": {},
   "outputs": [],
   "source": [
    "##Q19 Create a code to find the union of two lists without duplicates\n",
    "\n",
    "listA = [1, 2, 3, 4, 5]\n",
    "listB = [4, 5, 6, 7, 8]\n",
    "\n",
    "newlist = print('here is the all union element of both set', list(set(listA) | set(listB)))"
   ]
  },
  {
   "cell_type": "code",
   "execution_count": null,
   "id": "e328377e-6e3e-4afb-b38e-60b8841999f9",
   "metadata": {},
   "outputs": [],
   "source": [
    "##Q20 Write a code to shuffle a given list randomly without using any built-in shuffle functions\n",
    "\n",
    "list = [1, 2, 3, 4, 5]\n",
    "random_value = 123456 \n",
    "n = len(list)\n",
    "for i in range(n - 1, 0, -1):\n",
    "    random_value = (random_value * 7 + 3) % (n + 1)\n",
    "    j = random_value % (i + 1)\n",
    "    list[i], list[j] = list[j], list[i]\n",
    "\n",
    "print(list)"
   ]
  },
  {
   "cell_type": "code",
   "execution_count": null,
   "id": "846c2566-ffee-46ba-8bc7-06c3c72a5a96",
   "metadata": {},
   "outputs": [],
   "source": [
    "##Q21 Write a code that takes two tuples as input and returns a new tuple containing elements that are common to both input tuples\n",
    "\n",
    "tuple1 = (1, 2, 3, 4, 5)\n",
    "tuple2 = (4, 5, 6, 7, 8)\n",
    "\n",
    "common_elements = tuple(set(tuple1) & set(tuple2))\n",
    "\n",
    "print(\"Common elements:\", common_elements)"
   ]
  },
  {
   "cell_type": "code",
   "execution_count": null,
   "id": "5c988129-2bd2-4e2e-adcb-3d448584cc39",
   "metadata": {},
   "outputs": [],
   "source": [
    "##Q22  Create a code that prompts the user to enter two sets of integers separated by commas. Then, print the intersection of these two sets\n",
    "\n",
    "set1 = input(\"Enter the first set of integers\").split(',')\n",
    "set2 = input(\"Enter the second set of integers\").split(',')\n",
    "\n",
    "\n",
    "set1 = {int(num) for num in set1}\n",
    "set2 = {int(num) for num in set2}\n",
    "\n",
    "\n",
    "print('here is the intersection of the given input sets', set1 & set2)\n"
   ]
  },
  {
   "cell_type": "code",
   "execution_count": null,
   "id": "39e739b4-9bf5-4d7e-a0d0-c03c7e8997f1",
   "metadata": {},
   "outputs": [],
   "source": [
    "##Q23 Write a code to concatenate two tuples. The function should take two tuples as input and return a new tuple containing elements from both input tuples\n",
    "\n",
    "tuple1 = (1, 2, 3)\n",
    "tuple2 = (4, 5, 6)\n",
    "\n",
    "tuple3 = print(tuple1 + tuple2)"
   ]
  },
  {
   "cell_type": "code",
   "execution_count": null,
   "id": "e11e4501-3aab-4671-a65d-11d9b5814462",
   "metadata": {},
   "outputs": [],
   "source": [
    "##Q24 Develop a code that prompts the user to input two sets of strings. Then, print the elements that are present in the first set but not in the second set.\n",
    "\n",
    "set1 = set(input(\"Enter the elements of the first set \"))\n",
    "set2 = set(input(\"Enter the elements of the second set \"))\n",
    "\n",
    "difference = print(set1 - set2)\n"
   ]
  },
  {
   "cell_type": "code",
   "execution_count": null,
   "id": "672a2164-6e7c-4914-9feb-2eb5ec019765",
   "metadata": {},
   "outputs": [],
   "source": [
    "##Q25  Create a code that takes a tuple and two integers as input. The function should return a new tuple containing elements from the original tuple within the specified range of indices.\n",
    "\n",
    "original_tuple = (10, 20, 30, 40, 50, 60)\n",
    "start_index = 1\n",
    "end_index = 4\n",
    "new_tuple = print(original_tuple[start_index:end_index])"
   ]
  },
  {
   "cell_type": "code",
   "execution_count": null,
   "id": "f8a7e928-f7c6-4387-80c5-ad688151c135",
   "metadata": {},
   "outputs": [],
   "source": [
    "##Q26 Write a code that prompts the user to input two sets of characters. Then, print the union of these two sets\n",
    "\n",
    "set1 = set(input(\"Enter the elements of the first set \"))\n",
    "set2 = set(input(\"Enter the elements of the second set \"))\n",
    "\n",
    "union_set = print(set1.union(set2))"
   ]
  },
  {
   "cell_type": "code",
   "execution_count": null,
   "id": "de93948f-4b8e-4b66-a5de-65e6281694b2",
   "metadata": {},
   "outputs": [],
   "source": [
    "##Q27 Develop a code that takes a tuple of integers as input. The function should return the maximum and minimum values from the tuple using tuple unpacking\n",
    "\n",
    "input_tuple = tuple(map(int, input(\"Enter integers separated by spaces: \")))\n",
    "\n",
    "min_value = min(input_tuple)\n",
    "max_value = max(input_tuple)\n",
    "\n",
    "min_max_tuple = print((min_value, max_value))"
   ]
  },
  {
   "cell_type": "code",
   "execution_count": null,
   "id": "666311f2-bfd2-49e4-ab0d-fb5ea420a9c8",
   "metadata": {},
   "outputs": [],
   "source": [
    "##Q28 Create a code that defines two sets of integers. Then, print the union, intersection, and difference of these two sets\n",
    "\n",
    "set1 = {1, 2, 3, 4, 5}\n",
    "set2 = {4, 5, 6, 7, 8}\n",
    "\n",
    "print(\"Union \", set1 | set2)\n",
    "print(\"Intersection \",  set1 & set2)\n",
    "print(\"Difference \", set1 - set2)"
   ]
  },
  {
   "cell_type": "code",
   "execution_count": null,
   "id": "a66d07b0-ea6c-4b47-b682-375a9c0d79e1",
   "metadata": {},
   "outputs": [],
   "source": [
    "##Q29  Write a code that takes a tuple and an element as input. The function should return the count of occurrences of the given element in the tuple\n",
    "\n",
    "input_tuple = tuple(input(\"Enter elements for the tuple, separated by spaces: \"))\n",
    "element = input(\"Enter the element to count: \")\n",
    "\n",
    "count = input_tuple.count(element)\n",
    "print(f\"The element '{element}' appears {count} times in the tuple.\")"
   ]
  },
  {
   "cell_type": "code",
   "execution_count": null,
   "id": "669c5f65-7d8d-4661-9ba3-17f554181dde",
   "metadata": {},
   "outputs": [],
   "source": [
    "##Q30  Develop a code that prompts the user to input two sets of strings. Then, print the symmetric difference of these two sets\n",
    "\n",
    "setA = set(input())\n",
    "setB = set(input())\n",
    "\n",
    "print(setA ^ setB)"
   ]
  },
  {
   "cell_type": "code",
   "execution_count": null,
   "id": "1f028497-6f35-469f-8a9b-fda7a886d5d9",
   "metadata": {},
   "outputs": [],
   "source": [
    "##Q31 Write a code that takes a list of words as input and returns a dictionary where the keys are unique words and the values are the frequencies of those words in the input list\n",
    "\n",
    "words = input(\"Enter the words\")\n",
    "\n",
    "word_freq = {}\n",
    "\n",
    "for i in words.split(','):\n",
    "    if i in word_freq:\n",
    "        word_freq[i] += 1\n",
    "    else:\n",
    "        word_freq[i] = 1\n",
    "\n",
    "print(word_freq)"
   ]
  },
  {
   "cell_type": "code",
   "execution_count": 4,
   "id": "2c3b015b-1a4e-412d-a0a1-ddc818f056e5",
   "metadata": {},
   "outputs": [
    {
     "name": "stdout",
     "output_type": "stream",
     "text": [
      "{'a': 10, 'b': 35, 'c': 35, 'd': 25}\n"
     ]
    }
   ],
   "source": [
    "##Q32 Write a code that takes two dictionaries as input and merges them into a single dictionary. If there are common keys, the values should be added together\n",
    "\n",
    "\n",
    "dict1 = {'a': 10, 'b': 20, 'c': 30}\n",
    "dict2 = {'b': 15, 'c': 5, 'd': 25}\n",
    "\n",
    "\n",
    "for key in dict2:\n",
    "    if key in dict1:\n",
    "        dict1[key] += dict2[key]  \n",
    "    else:\n",
    "        dict1[key] = dict2[key]   \n",
    "\n",
    "print(dict1)"
   ]
  },
  {
   "cell_type": "code",
   "execution_count": null,
   "id": "333aa67e-c507-4c9f-b5bf-233d4a85c857",
   "metadata": {},
   "outputs": [],
   "source": [
    "##Q33  Write a code to access a value in a nested dictionary. The function should take the dictionary and a list of keys as input, and return the corresponding value. If any of the keys do not exist in the dictionary, the function should return None"
   ]
  },
  {
   "cell_type": "code",
   "execution_count": 5,
   "id": "afb8f60c-c501-4a19-a106-44cc705b56fb",
   "metadata": {},
   "outputs": [
    {
     "name": "stdout",
     "output_type": "stream",
     "text": [
      "{'b': 1, 'c': 2, 'a': 3}\n"
     ]
    }
   ],
   "source": [
    "##Q34  Write a code that takes a dictionary as input and returns a sorted version of it based on the values. You can choose whether to sort in ascending or descending order\n",
    "\n",
    "input_dict = {'a': 3, 'b': 1, 'c': 2}\n",
    "ascending = True \n",
    "\n",
    "sorted_items = sorted(input_dict.items(), key=lambda item: item[1], reverse=not ascending)\n",
    "\n",
    "sorted_dict = dict(sorted_items)\n",
    "\n",
    "print(sorted_dict) \n"
   ]
  },
  {
   "cell_type": "code",
   "execution_count": 6,
   "id": "3ad80cb1-cf3d-4f48-89ce-2b3dac2ac3dc",
   "metadata": {},
   "outputs": [
    {
     "name": "stdout",
     "output_type": "stream",
     "text": [
      "{1: ['a', 'c'], 2: ['b'], 3: ['d']}\n"
     ]
    }
   ],
   "source": [
    "##Q35 Write a code that inverts a dictionary, swapping keys and values. Ensure that the inverted dictionary correctly handles cases where multiple keys have the same value by storing the keys as a list in the inverted dictionary.\n",
    "\n",
    "\n",
    "original_dict = {\n",
    "    'a': 1,\n",
    "    'b': 2,\n",
    "    'c': 1,\n",
    "    'd': 3\n",
    "}\n",
    "\n",
    "inverted_dict = {}\n",
    "\n",
    "for key, value in original_dict.items():\n",
    "    if value in inverted_dict:\n",
    "        \n",
    "        inverted_dict[value].append(key)\n",
    "    else:\n",
    "        \n",
    "        inverted_dict[value] = [key]\n",
    "\n",
    "print(inverted_dict)"
   ]
  },
  {
   "cell_type": "code",
   "execution_count": null,
   "id": "00e4c581",
   "metadata": {},
   "outputs": [],
   "source": []
  }
 ],
 "metadata": {
  "kernelspec": {
   "display_name": "Python 3 (ipykernel)",
   "language": "python",
   "name": "python3"
  },
  "language_info": {
   "codemirror_mode": {
    "name": "ipython",
    "version": 3
   },
   "file_extension": ".py",
   "mimetype": "text/x-python",
   "name": "python",
   "nbconvert_exporter": "python",
   "pygments_lexer": "ipython3",
   "version": "3.12.5"
  }
 },
 "nbformat": 4,
 "nbformat_minor": 5
}
